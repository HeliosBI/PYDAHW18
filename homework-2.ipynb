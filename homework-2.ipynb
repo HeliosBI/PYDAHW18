{
 "cells": [
  {
   "cell_type": "code",
   "execution_count": 10,
   "metadata": {},
   "outputs": [],
   "source": [
    "import numpy as np\n",
    "from scipy.optimize import approx_fprime\n",
    "from scipy.optimize import minimize, approx_fprime, fmin, brute\n",
    "import matplotlib.pyplot as plt"
   ]
  },
  {
   "cell_type": "markdown",
   "metadata": {},
   "source": [
    "### Задание 1"
   ]
  },
  {
   "cell_type": "markdown",
   "metadata": {},
   "source": [
    "Придумайте функции со следующими свойствами (в a) b) c) область определения X любая, какая вам удобна, главное - функция с нужными свойствами):\n",
    "\n",
    "a) бесконечное количество локальных экстремумов\n",
    "\n",
    "b) 2 локальных экстремума\n",
    "\n",
    "с) 3 локальных экстремума\n",
    "\n",
    "d*) область определения функции - 1 точка"
   ]
  },
  {
   "cell_type": "code",
   "execution_count": 116,
   "metadata": {},
   "outputs": [],
   "source": [
    "# a)\n",
    "def f(x):\n",
    "    return x + np.cos(x)"
   ]
  },
  {
   "cell_type": "code",
   "execution_count": 104,
   "metadata": {},
   "outputs": [],
   "source": [
    "# b)\n",
    "def f(x):\n",
    "    return np.sin(x)"
   ]
  },
  {
   "cell_type": "code",
   "execution_count": 108,
   "metadata": {},
   "outputs": [],
   "source": [
    "# c)\n",
    "def f(x):\n",
    "    return -1 * np.sin(x)/x"
   ]
  },
  {
   "cell_type": "code",
   "execution_count": 112,
   "metadata": {},
   "outputs": [],
   "source": [
    "# d)\n",
    "def f(x):\n",
    "    return np.sqrt(-x**2)"
   ]
  },
  {
   "cell_type": "code",
   "execution_count": 113,
   "metadata": {},
   "outputs": [],
   "source": [
    "# invert function\n",
    "def f_(x):\n",
    "    return -f(x)"
   ]
  },
  {
   "cell_type": "code",
   "execution_count": 114,
   "metadata": {},
   "outputs": [
    {
     "name": "stdout",
     "output_type": "stream",
     "text": [
      "Warning: Maximum number of function evaluations has been exceeded.\n",
      "Warning: Maximum number of function evaluations has been exceeded.\n"
     ]
    },
    {
     "name": "stderr",
     "output_type": "stream",
     "text": [
      "c:\\users\\frenzzzzy\\appdata\\local\\programs\\python\\python38-32\\lib\\site-packages\\scipy\\optimize\\optimize.py:605: RuntimeWarning: invalid value encountered in less\n",
      "  if fxr < fsim[0]:\n",
      "c:\\users\\frenzzzzy\\appdata\\local\\programs\\python\\python38-32\\lib\\site-packages\\scipy\\optimize\\optimize.py:616: RuntimeWarning: invalid value encountered in less\n",
      "  if fxr < fsim[-2]:\n",
      "c:\\users\\frenzzzzy\\appdata\\local\\programs\\python\\python38-32\\lib\\site-packages\\scipy\\optimize\\optimize.py:621: RuntimeWarning: invalid value encountered in less\n",
      "  if fxr < fsim[-1]:\n",
      "c:\\users\\frenzzzzy\\appdata\\local\\programs\\python\\python38-32\\lib\\site-packages\\scipy\\optimize\\optimize.py:635: RuntimeWarning: invalid value encountered in less\n",
      "  if fxcc < fsim[-1]:\n",
      "<ipython-input-112-bdaeebae1020>:3: RuntimeWarning: invalid value encountered in sqrt\n",
      "  return np.sqrt(-x**2)\n"
     ]
    },
    {
     "data": {
      "image/png": "[encoded data removed]",
      "text/plain": [
       "<Figure size 432x288 with 1 Axes>"
      ]
     },
     "metadata": {
      "needs_background": "light"
     },
     "output_type": "display_data"
    }
   ],
   "source": [
    "# objective function\n",
    "\n",
    "x0 = -6 # start from x = -6\n",
    "xmin0 = fmin(f,x0)\n",
    "\n",
    "x1 = 0 # start from x = 0\n",
    "xmin1 = fmin(f,x1)\n",
    "\n",
    "# plot the function\n",
    "x = np.linspace(-15,15,100)\n",
    "y = f(x)\n",
    "pylab.plot(x,y)\n",
    "# plot of x0 and the minimum found startin from x0\n",
    "pylab.plot(x0, f(x0), 'bd', xmin0, f(xmin0), 'bo')\n",
    "# plot of x1 and the minimum found startin from x1\n",
    "pylab.plot(x1, f(x1), 'rd', xmin1, f(xmin1), 'ro')\n",
    "\n",
    "pylab.axis([-7,7,-10,10])\n",
    "pylab.show()"
   ]
  },
  {
   "cell_type": "code",
   "execution_count": 115,
   "metadata": {},
   "outputs": [
    {
     "name": "stdout",
     "output_type": "stream",
     "text": [
      "Warning: Maximum number of function evaluations has been exceeded.\n",
      "Warning: Maximum number of function evaluations has been exceeded.\n"
     ]
    },
    {
     "name": "stderr",
     "output_type": "stream",
     "text": [
      "c:\\users\\frenzzzzy\\appdata\\local\\programs\\python\\python38-32\\lib\\site-packages\\scipy\\optimize\\optimize.py:605: RuntimeWarning: invalid value encountered in less\n",
      "  if fxr < fsim[0]:\n",
      "c:\\users\\frenzzzzy\\appdata\\local\\programs\\python\\python38-32\\lib\\site-packages\\scipy\\optimize\\optimize.py:616: RuntimeWarning: invalid value encountered in less\n",
      "  if fxr < fsim[-2]:\n",
      "c:\\users\\frenzzzzy\\appdata\\local\\programs\\python\\python38-32\\lib\\site-packages\\scipy\\optimize\\optimize.py:621: RuntimeWarning: invalid value encountered in less\n",
      "  if fxr < fsim[-1]:\n",
      "c:\\users\\frenzzzzy\\appdata\\local\\programs\\python\\python38-32\\lib\\site-packages\\scipy\\optimize\\optimize.py:635: RuntimeWarning: invalid value encountered in less\n",
      "  if fxcc < fsim[-1]:\n",
      "<ipython-input-112-bdaeebae1020>:3: RuntimeWarning: invalid value encountered in sqrt\n",
      "  return np.sqrt(-x**2)\n"
     ]
    },
    {
     "data": {
      "image/png": "[encoded data removed]",
      "text/plain": [
       "<Figure size 432x288 with 1 Axes>"
      ]
     },
     "metadata": {
      "needs_background": "light"
     },
     "output_type": "display_data"
    }
   ],
   "source": [
    "# objective function\n",
    "\n",
    "x0 = -5 # start from x = -5\n",
    "xmin0 = fmin(f_,x0)\n",
    "\n",
    "x1 = 0 # start from x = 0\n",
    "xmin1 = fmin(f_, x1)\n",
    "\n",
    "# plot the function\n",
    "x = np.linspace(-15,15,100)\n",
    "y = f(x)\n",
    "pylab.plot(x,y)\n",
    "# plot of x0 and the minimum found startin from x0\n",
    "pylab.plot(x0, f(x0), 'bd', xmin0, f(xmin0), 'bo')\n",
    "# plot of x1 and the minimum found startin from x1\n",
    "pylab.plot(x1, f(x1), 'rd', xmin1, f(xmin1), 'ro')\n",
    "\n",
    "pylab.axis([-7,7,-10,10])\n",
    "pylab.show()"
   ]
  },
  {
   "cell_type": "markdown",
   "metadata": {},
   "source": [
    "### Задание 2"
   ]
  },
  {
   "cell_type": "markdown",
   "metadata": {},
   "source": [
    "Посчитайте 1-ую и 2-ую производные функции (на бумажке):\n",
    "\n",
    "$f(x) = sin^2(2x+1)$\n"
   ]
  },
  {
   "cell_type": "markdown",
   "metadata": {},
   "source": [
    "<img src=\"Scan.jpg\">"
   ]
  },
  {
   "cell_type": "markdown",
   "metadata": {},
   "source": [
    "### Задание 3: \n",
    "Посчитайте частные производные функции в точкe\n",
    "(на бумажке или в LaTeX и на numpy):"
   ]
  },
  {
   "cell_type": "markdown",
   "metadata": {},
   "source": [
    "$f(x,y)=2x^2y^3 + 1/x + y^2x + 7$ в точке $(1,2)$"
   ]
  },
  {
   "cell_type": "markdown",
   "metadata": {},
   "source": [
    "<img src=\"Scan.jpg\">"
   ]
  },
  {
   "cell_type": "markdown",
   "metadata": {},
   "source": [
    "### Задание 4:\n",
    "\n",
    "Градиентный спуск своими руками"
   ]
  },
  {
   "cell_type": "code",
   "execution_count": 154,
   "metadata": {},
   "outputs": [],
   "source": [
    "def f(x):\n",
    "    return (x[0]**2) + (x[1]**2) "
   ]
  },
  {
   "cell_type": "code",
   "execution_count": 170,
   "metadata": {},
   "outputs": [],
   "source": [
    "x = np.array([100, 200])\n",
    "lr = 0.1"
   ]
  },
  {
   "cell_type": "code",
   "execution_count": 176,
   "metadata": {},
   "outputs": [
    {
     "ename": "UFuncTypeError",
     "evalue": "Cannot cast ufunc 'subtract' output from dtype('float64') to dtype('int32') with casting rule 'same_kind'",
     "output_type": "error",
     "traceback": [
      "\u001b[1;31m---------------------------------------------------------------------------\u001b[0m",
      "\u001b[1;31mUFuncTypeError\u001b[0m                            Traceback (most recent call last)",
      "\u001b[1;32m<ipython-input-176-a59a071e96f1>\u001b[0m in \u001b[0;36m<module>\u001b[1;34m\u001b[0m\n\u001b[0;32m      4\u001b[0m \u001b[1;33m\u001b[0m\u001b[0m\n\u001b[0;32m      5\u001b[0m     \u001b[1;31m# Update x with gradient\u001b[0m\u001b[1;33m\u001b[0m\u001b[1;33m\u001b[0m\u001b[1;33m\u001b[0m\u001b[0m\n\u001b[1;32m----> 6\u001b[1;33m     \u001b[0mx\u001b[0m \u001b[1;33m-=\u001b[0m \u001b[0mgrad\u001b[0m  \u001b[1;31m# Your code here (смотри слайд презентации про градиентный спуск)\u001b[0m\u001b[1;33m\u001b[0m\u001b[1;33m\u001b[0m\u001b[0m\n\u001b[0m",
      "\u001b[1;31mUFuncTypeError\u001b[0m: Cannot cast ufunc 'subtract' output from dtype('float64') to dtype('int32') with casting rule 'same_kind'"
     ]
    }
   ],
   "source": [
    "for i in range(100):\n",
    "    # Calculate gradient\n",
    "    grad = approx_fprime(x, f, [lr, lr]) # Your code here (функция для вычисления градиента есть в лекционном ноутбуке)\n",
    "    \n",
    "    # Update x with gradient\n",
    "    x -= grad  # Your code here (смотри слайд презентации про градиентный спуск)"
   ]
  },
  {
   "cell_type": "code",
   "execution_count": 174,
   "metadata": {},
   "outputs": [
    {
     "data": {
      "text/plain": [
       "array([200.1, 400.1])"
      ]
     },
     "execution_count": 174,
     "metadata": {},
     "output_type": "execute_result"
    }
   ],
   "source": [
    "\n"
   ]
  },
  {
   "cell_type": "code",
   "execution_count": 175,
   "metadata": {},
   "outputs": [
    {
     "name": "stdout",
     "output_type": "stream",
     "text": [
      "Минимум достигается в:  [100 200]\n",
      "Значение функции в минимуме:  50000\n"
     ]
    }
   ],
   "source": [
    "print(\"Минимум достигается в: \", x)\n",
    "print(\"Значение функции в минимуме: \", f(x))"
   ]
  },
  {
   "cell_type": "markdown",
   "metadata": {},
   "source": [
    "Проверка с помощью встроенной функции numpy: "
   ]
  },
  {
   "cell_type": "code",
   "execution_count": 158,
   "metadata": {},
   "outputs": [
    {
     "name": "stdout",
     "output_type": "stream",
     "text": [
      "[0. 0.]\n"
     ]
    }
   ],
   "source": [
    "j = np.gradient(x)\n",
    "print(j)"
   ]
  }
 ],
 "metadata": {
  "kernelspec": {
   "display_name": "Python 3",
   "language": "python",
   "name": "python3"
  },
  "language_info": {
   "codemirror_mode": {
    "name": "ipython",
    "version": 3
   },
   "file_extension": ".py",
   "mimetype": "text/x-python",
   "name": "python",
   "nbconvert_exporter": "python",
   "pygments_lexer": "ipython3",
   "version": "3.8.2"
  }
 },
 "nbformat": 4,
 "nbformat_minor": 2
}
